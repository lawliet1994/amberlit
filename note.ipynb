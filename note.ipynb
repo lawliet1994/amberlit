{
 "cells": [
  {
   "cell_type": "markdown",
   "metadata": {},
   "source": [
    "## 调用 api 测试"
   ]
  },
  {
   "cell_type": "code",
   "execution_count": null,
   "metadata": {},
   "outputs": [],
   "source": [
    "import requests\n",
    "API_KEY='sk-a75693089c7140bb9dfffc717efa403e'\n",
    "url = 'https://dashscope.aliyuncs.com/api/v1/services/aigc/text-generation/generation'\n",
    "header = {\n",
    "    'Authorization': f'Bearer {API_KEY}',  # 请替换为你的实际API密钥\n",
    "    'Content-Type': 'application/json',\n",
    "    'X-DashScope-SSE': 'enable'\n",
    "}\n",
    "data = {\n",
    "    \"model\": \"qwen-turbo\",\n",
    "    \"input\": {\n",
    "        \"messages\": [\n",
    "            {\n",
    "                \"role\": \"system\",\n",
    "                \"content\": \"You are a helpful assistant.\"\n",
    "            },\n",
    "            {\n",
    "                \"role\": \"user\",\n",
    "                \"content\": \"你好，哪个公园距离我最近？\"\n",
    "            }\n",
    "        ]\n",
    "    },\n",
    "    \"parameters\": {\n",
    "        \"result_format\": \"message\",\n",
    "        \"incremental_output\": True\n",
    "    }\n",
    "}\n",
    "\n",
    "response = requests.post(url, headers=header, json=data)\n",
    "\n",
    "print(response.text)"
   ]
  },
  {
   "cell_type": "code",
   "execution_count": 19,
   "metadata": {},
   "outputs": [
    {
     "name": "stdout",
     "output_type": "stream",
     "text": [
      "你好！有什么我能帮助你的吗？"
     ]
    }
   ],
   "source": [
    "import random\n",
    "from http import HTTPStatus\n",
    "from dashscope import Generation\n",
    "\n",
    "messages = [{'role': 'system', 'content': 'You are a helpful assistant.'},\n",
    "            {'role': 'user', 'content': '你好'}]\n",
    "\n",
    "def get_response(Messages):\n",
    "    responses = Generation.call(model=\"qwen-turbo\",\n",
    "                                messages=messages,\n",
    "                                # 设置随机数种子seed，如果没有设置，则随机数种子默认为1234\n",
    "                                seed=random.randint(1, 10000),\n",
    "                                # 将输出设置为\"message\"格式\n",
    "                                result_format='message',\n",
    "                                stream=True,\n",
    "                                incremental_output=True,\n",
    "                                api_key='sk-a75693089c7140bb9dfffc717efa403e')\n",
    "    return responses\n",
    "responses = get_response(messages)\n",
    "for response in responses:\n",
    "    if response.status_code == HTTPStatus.OK:\n",
    "        print(response.output.choices[0]['message']['content'], end='')\n",
    "    else:\n",
    "        print('Request id: %s, Status code: %s, error code: %s, error message: %s' % (\n",
    "            response.request_id, response.status_code,\n",
    "            response.code, response.message\n",
    "        ))\n",
    "\n"
   ]
  }
 ],
 "metadata": {
  "kernelspec": {
   "display_name": "Python 3",
   "language": "python",
   "name": "python3"
  },
  "language_info": {
   "codemirror_mode": {
    "name": "ipython",
    "version": 3
   },
   "file_extension": ".py",
   "mimetype": "text/x-python",
   "name": "python",
   "nbconvert_exporter": "python",
   "pygments_lexer": "ipython3",
   "version": "3.11.10"
  }
 },
 "nbformat": 4,
 "nbformat_minor": 2
}
